{
  "nbformat": 4,
  "nbformat_minor": 0,
  "metadata": {
    "colab": {
      "provenance": []
    },
    "kernelspec": {
      "name": "python3",
      "display_name": "Python 3"
    },
    "language_info": {
      "name": "python"
    }
  },
  "cells": [
    {
      "cell_type": "code",
      "source": [
        "# 1. Write a program that takes two strings from the user: first_name, last_name.\n",
        "   # Pass these variables to fullname function that should return the (full name).\n",
        "\n",
        "def fullname(first_name, last_name):\n",
        "    return first_name + \" \" + last_name\n",
        "\n",
        "def main():\n",
        "    first_name = input(\"Enter your first name: \")\n",
        "    last_name = input(\"Enter your last name: \")\n",
        "\n",
        "\n",
        "    full_name = fullname(first_name, last_name)\n",
        "\n",
        "    print(\"Full Name:\", full_name)\n",
        "\n",
        "main()"
      ],
      "metadata": {
        "colab": {
          "base_uri": "https://localhost:8080/"
        },
        "id": "0sK1zHv8HOjL",
        "outputId": "69593cb1-5323-470c-e86b-8b1ba0513d25"
      },
      "execution_count": 4,
      "outputs": [
        {
          "output_type": "stream",
          "name": "stdout",
          "text": [
            "Enter your first name: venkat sai\n",
            "Enter your last name: prasad\n",
            "Full Name: venkat sai prasad\n"
          ]
        }
      ]
    },
    {
      "cell_type": "code",
      "source": [
        "def string_alternative(inputStr):\n",
        "    resultStr = \"\"\n",
        "\n",
        "    for i in range(0, len(inputStr), 2):\n",
        "        resultStr += inputStr[i]\n",
        "    return resultStr"
      ],
      "metadata": {
        "id": "3Yyw52s3IfZB"
      },
      "execution_count": null,
      "outputs": []
    },
    {
      "cell_type": "code",
      "source": [
        "def main():\n",
        "\n",
        "    full_name = input(\"Enter text: \")\n",
        "\n",
        "    filteredStr = string_alternative(full_name)\n",
        "\n",
        "    print(\"Alternative string :\", filteredStr)\n",
        "\n",
        "main()"
      ],
      "metadata": {
        "colab": {
          "base_uri": "https://localhost:8080/"
        },
        "id": "D9DBsi9oIT76",
        "outputId": "4b70676b-9a8f-4f54-d689-db0d785e7d4f"
      },
      "execution_count": 7,
      "outputs": [
        {
          "output_type": "stream",
          "name": "stdout",
          "text": [
            "Enter text: Good Evening\n",
            "Alternative string : Go vnn\n"
          ]
        }
      ]
    },
    {
      "cell_type": "code",
      "source": [
        "# 2 Write a python program to find the wordcount in a file (input.txt) for each line and then print the output.\n",
        "    # Finally store the output in output.txt file.\n",
        "\n",
        "  # give the path of both input and output text files\n",
        "\n",
        "input_file = \"input.txt\"\n",
        "output_file = \"output.txt\"\n",
        " # the code opens the input file in read mode to read all lines,\n",
        "\n",
        "with open(input_file, \"r\") as file:\n",
        "    lines = file.readlines()\n",
        "\n",
        "all_text = \" \".join(lines)\n",
        "# 'count_words' function takes input string and returns a dictionary containing word and respective count\n",
        "def count_words(input_txt):\n",
        "    word_count = {}\n",
        "    words = input_txt.split()\n",
        "    for word in words:\n",
        "        word = word.strip()\n",
        "        if word:\n",
        "            if word in word_count:\n",
        "                word_count[word] += 1\n",
        "            else:\n",
        "                word_count[word] = 1\n",
        "    return word_count\n",
        "word_count = count_words(all_text)\n",
        "writing_lines = []\n",
        "# Append individual input lines here, by removing the trailing spaces\n",
        "for line in lines:\n",
        "    writing_lines.append(line.strip())\n",
        "\n",
        "writing_lines.append(\"Word_Count:\")\n",
        "\n",
        "# iterate through dictionary items and append word and respective count\n",
        "for line, line_count in word_count.items():\n",
        "    writing_lines.append(f\"{line}: {line_count}\")\n",
        "# the code opens the output file in write mode to write all lines,separated by newline\n",
        "\n",
        "with open(output_file, \"w\") as file:\n",
        "    file.write(\"\\n\".join(writing_lines))\n",
        "\n",
        "print(\"Output has been written to 'output.txt' file.\")"
      ],
      "metadata": {
        "colab": {
          "base_uri": "https://localhost:8080/"
        },
        "id": "PCtJY6e1J32F",
        "outputId": "2d968abe-aec6-45b2-9ead-8e3732807b54"
      },
      "execution_count": 12,
      "outputs": [
        {
          "output_type": "stream",
          "name": "stdout",
          "text": [
            "Output has been written to 'output.txt' file.\n"
          ]
        }
      ]
    },
    {
      "cell_type": "code",
      "source": [
        "\n",
        "# 3. Write a program, which reads heights (inches.) of customers into a list and convert these heights to centimeters in a separate list using:\n",
        "    # 1) Nested Interactive loop.\n",
        "    # 2) List comprehensions.\n",
        "\n",
        "# Function to convert height from inches to centimeters\n",
        "def inches_to_cm(height_in_inches):\n",
        "    return height_in_inches * 2.54\n",
        "\n",
        "def main():\n",
        "\n",
        "  # Enter customer count to take input\n",
        "    cust_count = int(input(\"Enter the number of customers: \"))\n",
        "    inch_hyts = []\n",
        "\n",
        "    # A.  Read heights in inches using nested loop\n",
        "    for i in range(cust_count):\n",
        "        hyt = float(input(f\"Enter customer height {i+1} (in inches): \"))\n",
        "        inch_hyts.append(hyt)\n",
        "\n",
        "    # Convert heights to centimeters using nested loop\n",
        "    heights_cm = []\n",
        "    for hyt in inch_hyts:\n",
        "\n",
        "      # calling funtion for convertion\n",
        "        cm_hyt = inches_to_cm(hyt)\n",
        "        heights_cm.append(cm_hyt)\n",
        "\n",
        "    # B.  Convert heights to centimeters using list comprehension\n",
        "    heights_comp = [inches_to_cm(height) for height in inch_hyts]\n",
        "\n",
        "  # print result\n",
        "    print(\"customer heights  in centimeters (nested loop):\", heights_cm)\n",
        "    print(\"customer heights  in centimeters (list-comprehension):\", heights_comp)\n",
        "\n",
        "main()\n"
      ],
      "metadata": {
        "colab": {
          "base_uri": "https://localhost:8080/"
        },
        "id": "WTdpV8owLaWk",
        "outputId": "d2ce9c16-b173-4ee6-d4f2-39db1f65a641"
      },
      "execution_count": 19,
      "outputs": [
        {
          "output_type": "stream",
          "name": "stdout",
          "text": [
            "Enter the number of customers: 2\n",
            "Enter customer height 1 (in inches): 72\n",
            "Enter customer height 2 (in inches): 64\n",
            "customer heights  in centimeters (nested loop): [182.88, 162.56]\n",
            "customer heights  in centimeters (list-comprehension): [182.88, 162.56]\n"
          ]
        }
      ]
    }
  ]
}